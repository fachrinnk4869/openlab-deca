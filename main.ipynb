{
 "cells": [
  {
   "cell_type": "code",
   "execution_count": 2,
   "id": "8a171c11",
   "metadata": {},
   "outputs": [
    {
     "name": "stdout",
     "output_type": "stream",
     "text": [
      "Installing PyTorch3D for py38_cu121_pyt241...\n",
      "Requirement already satisfied: iopath in /home/fachri/.local/lib/python3.8/site-packages (0.1.10)\n",
      "Requirement already satisfied: typing-extensions in /home/fachri/.local/lib/python3.8/site-packages (from iopath) (4.13.2)\n",
      "Requirement already satisfied: portalocker in /home/fachri/.local/lib/python3.8/site-packages (from iopath) (3.0.0)\n",
      "Requirement already satisfied: tqdm in /home/fachri/.local/lib/python3.8/site-packages (from iopath) (4.66.4)\n",
      "Looking in links: https://dl.fbaipublicfiles.com/pytorch3d/packaging/wheels/py38_cu121_pyt241/download.html\n",
      "\u001b[31mERROR: Could not find a version that satisfies the requirement pytorch3d (from versions: none)\u001b[0m\n",
      "\u001b[31mERROR: No matching distribution found for pytorch3d\u001b[0m\n"
     ]
    }
   ],
   "source": [
    "import sys\n",
    "import torch\n",
    "pyt_version_str=torch.__version__.split(\"+\")[0].replace(\".\", \"\")\n",
    "version_str=\"\".join([\n",
    "    f\"py3{sys.version_info.minor}_cu\",\n",
    "    torch.version.cuda.replace(\".\",\"\"),\n",
    "    f\"_pyt{pyt_version_str}\"\n",
    "])\n",
    "print(f\"Installing PyTorch3D for {version_str}...\")\n",
    "!pip install iopath\n",
    "!pip install --no-index --no-cache-dir pytorch3d -f https://dl.fbaipublicfiles.com/pytorch3d/packaging/wheels/{version_str}/download.html"
   ]
  }
 ],
 "metadata": {
  "kernelspec": {
   "display_name": "Python 3",
   "language": "python",
   "name": "python3"
  },
  "language_info": {
   "codemirror_mode": {
    "name": "ipython",
    "version": 3
   },
   "file_extension": ".py",
   "mimetype": "text/x-python",
   "name": "python",
   "nbconvert_exporter": "python",
   "pygments_lexer": "ipython3",
   "version": "3.8.10"
  }
 },
 "nbformat": 4,
 "nbformat_minor": 5
}
